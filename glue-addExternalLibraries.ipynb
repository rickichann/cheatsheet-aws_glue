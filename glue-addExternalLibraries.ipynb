{
	"cells": [
		{
			"cell_type": "markdown",
			"metadata": {},
			"source": [
				"##  Xperiment"
			]
		},
		{
			"cell_type": "code",
			"execution_count": 1,
			"metadata": {
				"editable": true,
				"trusted": true,
				"vscode": {
					"languageId": "python_glue_session"
				}
			},
			"outputs": [
				{
					"name": "stdout",
					"output_type": "stream",
					"text": [
						"Welcome to the Glue Interactive Sessions Kernel\n",
						"For more information on available magic commands, please type %help in any new cell.\n",
						"\n",
						"Please view our Getting Started page to access the most up-to-date information on the Interactive Sessions kernel: https://docs.aws.amazon.com/glue/latest/dg/interactive-sessions.html\n",
						"Installed kernel version: 1.0.5 \n",
						"Current idle_timeout is None minutes.\n",
						"idle_timeout has been set to 15 minutes.\n",
						"Setting Glue version to: 3.0\n",
						"Previous worker type: None\n",
						"Setting new worker type to: G.1X\n",
						"Previous number of workers: None\n",
						"Setting new number of workers to: 2\n",
						"Additional python modules to be included:\n",
						"polars\n",
						"tensorflow\n",
						"Trying to create a Glue session for the kernel.\n",
						"Session Type: glueetl\n",
						"Worker Type: G.1X\n",
						"Number of Workers: 2\n",
						"Idle Timeout: 15\n",
						"Session ID: f24f396e-dc9e-40ad-b2a2-3f50ee6d7a95\n",
						"Applying the following default arguments:\n",
						"--glue_kernel_version 1.0.5\n",
						"--enable-glue-datacatalog true\n",
						"--additional-python-modules polars,tensorflow\n",
						"Waiting for session f24f396e-dc9e-40ad-b2a2-3f50ee6d7a95 to get into ready status...\n",
						"Session f24f396e-dc9e-40ad-b2a2-3f50ee6d7a95 has been created.\n",
						"\n"
					]
				}
			],
			"source": [
				"%idle_timeout 15\n",
				"%glue_version 3.0\n",
				"%worker_type G.1X\n",
				"%number_of_workers 2\n",
				"%additional_python_modules polars, tensorflow\n",
				"\n",
				"from polars import polars\n",
				"import sys\n",
				"from awsglue.transforms import *\n",
				"from awsglue.utils import getResolvedOptions\n",
				"from pyspark.context import SparkContext\n",
				"from awsglue.context import GlueContext\n",
				"from awsglue.job import Job\n",
				"  \n",
				"sc = SparkContext.getOrCreate()\n",
				"glueContext = GlueContext(sc)\n",
				"spark = glueContext.spark_session\n",
				"job = Job(glueContext)"
			]
		},
		{
			"cell_type": "code",
			"execution_count": 2,
			"metadata": {
				"tags": [],
				"trusted": true,
				"vscode": {
					"languageId": "python_glue_session"
				}
			},
			"outputs": [
				{
					"name": "stdout",
					"output_type": "stream",
					"text": [
						"TensorFlow version -  2.11.0\n",
						"TensorFlow is installed as CPU version.\n"
					]
				}
			],
			"source": [
				"import tensorflow as tf\n",
				"print('TensorFlow version - ',tf.__version__)\n",
				"# Check if GPU is available\n",
				"gpu_available = tf.config.list_physical_devices('GPU')\n",
				"\n",
				"if gpu_available:\n",
				"    print(\"TensorFlow is installed as GPU version.\")\n",
				"else:\n",
				"    print(\"TensorFlow is installed as CPU version.\")"
			]
		},
		{
			"cell_type": "code",
			"execution_count": 94,
			"metadata": {
				"tags": [],
				"trusted": true,
				"vscode": {
					"languageId": "python_glue_session"
				}
			},
			"outputs": [
				{
					"name": "stdout",
					"output_type": "stream",
					"text": [
						"Stopping session: 509de45d-05b2-437e-8805-d53b378193c2\n",
						"Stopped session.\n"
					]
				}
			],
			"source": [
				"%stop_session"
			]
		}
	],
	"metadata": {
		"kernelspec": {
			"display_name": "Glue PySpark",
			"language": "python",
			"name": "glue_pyspark"
		},
		"language_info": {
			"codemirror_mode": {
				"name": "python",
				"version": 3
			},
			"file_extension": ".py",
			"mimetype": "text/x-python",
			"name": "Python_Glue_Session",
			"pygments_lexer": "python3"
		}
	},
	"nbformat": 4,
	"nbformat_minor": 4
}
